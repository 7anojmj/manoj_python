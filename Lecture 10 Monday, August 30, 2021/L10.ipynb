{
 "cells": [
  {
   "cell_type": "markdown",
   "metadata": {},
   "source": [
    "# Try and Except"
   ]
  },
  {
   "cell_type": "markdown",
   "metadata": {},
   "source": [
    "try and  except is used to avoid the stopping of the program when errors occured"
   ]
  },
  {
   "cell_type": "code",
   "execution_count": 1,
   "metadata": {},
   "outputs": [
    {
     "name": "stdout",
     "output_type": "stream",
     "text": [
      "0000000000\n",
      "Have A Good Day!\n"
     ]
    }
   ],
   "source": [
    "import os\n",
    "os.system(\"cls\")\n",
    "# os.system(\"clear\")\n",
    "\n",
    "numerator = 10\n",
    "denominator = '0'  # 0, '0'\n",
    "# division = numerator/denominator\n",
    "# print(division)\n",
    "\n",
    "multiplication = numerator*denominator\n",
    "print(multiplication)\n",
    "\n",
    "print(\"Have A Good Day!\")"
   ]
  },
  {
   "cell_type": "code",
   "execution_count": 2,
   "metadata": {},
   "outputs": [
    {
     "ename": "TypeError",
     "evalue": "unsupported operand type(s) for /: 'int' and 'str'",
     "output_type": "error",
     "traceback": [
      "\u001b[1;31m---------------------------------------------------------------------------\u001b[0m",
      "\u001b[1;31mTypeError\u001b[0m                                 Traceback (most recent call last)",
      "\u001b[1;32m<ipython-input-2-b4b82ce8a235>\u001b[0m in \u001b[0;36m<module>\u001b[1;34m\u001b[0m\n\u001b[1;32m----> 1\u001b[1;33m \u001b[0mdivision\u001b[0m \u001b[1;33m=\u001b[0m \u001b[0mnumerator\u001b[0m\u001b[1;33m/\u001b[0m\u001b[0mdenominator\u001b[0m\u001b[1;33m\u001b[0m\u001b[1;33m\u001b[0m\u001b[0m\n\u001b[0m\u001b[0;32m      2\u001b[0m \u001b[0mprint\u001b[0m\u001b[1;33m(\u001b[0m\u001b[0mdivision\u001b[0m\u001b[1;33m)\u001b[0m\u001b[1;33m\u001b[0m\u001b[1;33m\u001b[0m\u001b[0m\n",
      "\u001b[1;31mTypeError\u001b[0m: unsupported operand type(s) for /: 'int' and 'str'"
     ]
    }
   ],
   "source": [
    "division = numerator/denominator   #error \n",
    "print(division) \n"
   ]
  },
  {
   "cell_type": "code",
   "execution_count": 3,
   "metadata": {},
   "outputs": [
    {
     "name": "stdout",
     "output_type": "stream",
     "text": [
      "An apple a day keeps the doctor away !\n",
      "There was some error in try clause\n",
      "0\n",
      "Have A Good Day!\n"
     ]
    }
   ],
   "source": [
    "import os\n",
    "os.system(\"cls\")\n",
    "# os.system(\"clear\")\n",
    "\n",
    "numerator = 10\n",
    "denominator = 0  # 0, '0'\n",
    "\n",
    "\n",
    "try:\n",
    "    print(\"An apple a day keeps the doctor away !\")\n",
    "    division = numerator/denominator  # error\n",
    "    # Since above line is error, ignore all try lines\n",
    "    print(\"Hi There\")\n",
    "    print(division)\n",
    "except:  # Exception\n",
    "    print(\"There was some error in try clause\")\n",
    "\n",
    "\n",
    "multiplication = numerator*denominator\n",
    "print(multiplication)\n",
    "print(\"Have A Good Day!\")\n"
   ]
  },
  {
   "cell_type": "code",
   "execution_count": 8,
   "metadata": {},
   "outputs": [
    {
     "name": "stdout",
     "output_type": "stream",
     "text": [
      "hiii\n",
      "in the try function\n",
      "now in the except function\n"
     ]
    }
   ],
   "source": [
    "print('hiii')\n",
    "\n",
    "try :\n",
    "    print('in the try function')\n",
    "    print(ok)\n",
    "    print('test ')\n",
    "except:\n",
    "    print('now in the except function')"
   ]
  },
  {
   "cell_type": "markdown",
   "metadata": {},
   "source": [
    "Handling exceptions in try and except "
   ]
  },
  {
   "cell_type": "markdown",
   "metadata": {},
   "source": [
    "### ZeroDivisionError: division by zero"
   ]
  },
  {
   "cell_type": "code",
   "execution_count": 9,
   "metadata": {},
   "outputs": [
    {
     "name": "stdout",
     "output_type": "stream",
     "text": [
      "There was some other exception then ZeroDivisionError\n",
      "Have A Good Day!\n"
     ]
    }
   ],
   "source": [
    "numerator = 10\n",
    "denominator = '0'  # 0, '0'\n",
    "try:\n",
    "    division = numerator/denominator  # error line\n",
    "    print(division)\n",
    "except ZeroDivisionError:\n",
    "    print(\"ZeroDivisionError : There was some error in try clause:\")\n",
    "except:\n",
    "    print(\"There was some other exception then ZeroDivisionError\")\n",
    "\n",
    "print(\"Have A Good Day!\")"
   ]
  },
  {
   "cell_type": "code",
   "execution_count": null,
   "metadata": {},
   "outputs": [],
   "source": []
  }
 ],
 "metadata": {
  "interpreter": {
   "hash": "794c586787e63909adb941834935e6e46fc49adf1399dfa9033e63c86a61e0b5"
  },
  "kernelspec": {
   "display_name": "Python 3.8.5 64-bit",
   "language": "python",
   "name": "python3"
  },
  "language_info": {
   "codemirror_mode": {
    "name": "ipython",
    "version": 3
   },
   "file_extension": ".py",
   "mimetype": "text/x-python",
   "name": "python",
   "nbconvert_exporter": "python",
   "pygments_lexer": "ipython3",
   "version": "3.8.5"
  },
  "orig_nbformat": 4
 },
 "nbformat": 4,
 "nbformat_minor": 2
}
