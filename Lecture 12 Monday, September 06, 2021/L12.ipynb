{
 "cells": [
  {
   "cell_type": "markdown",
   "metadata": {},
   "source": [
    "# M 07 - L 03 - SKIPPING INITIAL SPACE WHILE READING CSV-FILE \n"
   ]
  },
  {
   "cell_type": "code",
   "execution_count": 2,
   "metadata": {},
   "outputs": [
    {
     "name": "stdout",
     "output_type": "stream",
     "text": [
      "['Name', 'Country', 'Profession']\n",
      "['   Sachin', 'India', 'Cricketer']\n",
      "['A. R. Rahman', 'India', 'Musician']\n",
      "['       Albert Einstein', 'Germany', 'Physicist']\n",
      "['A. P. J. Abdul Kalam', 'India', 'Scientist']\n",
      "['Roger Federer', ' Switzerland', 'Tennis']\n"
     ]
    }
   ],
   "source": [
    "import csv\n",
    "import os\n",
    "os.system('cls')\n",
    "# os.system('clear')\n",
    "\n",
    "with open('people_spaces.csv', 'r') as csvfile:\n",
    "    reader = csv.reader(csvfile, delimiter=',', skipinitialspace=False)  # Both\n",
    "    for row in reader:\n",
    "        print(row)\n",
    "\n",
    "\n"
   ]
  },
  {
   "cell_type": "code",
   "execution_count": 4,
   "metadata": {},
   "outputs": [
    {
     "name": "stdout",
     "output_type": "stream",
     "text": [
      "Now setting skipinitialspace as True \n",
      "['Name', 'Country', 'Profession']\n",
      "['Sachin', 'India', 'Cricketer']\n",
      "['A. R. Rahman', 'India', 'Musician']\n",
      "['Albert Einstein', 'Germany', 'Physicist']\n",
      "['A. P. J. Abdul Kalam', 'India', 'Scientist']\n",
      "['Roger Federer', 'Switzerland', 'Tennis']\n"
     ]
    }
   ],
   "source": [
    "\n",
    "print(\"Now setting skipinitialspace as True \")\n",
    "with open('people_spaces.csv', 'r') as csvfile:\n",
    "    reader = csv.reader(csvfile, delimiter=',', skipinitialspace=True)  # Both\n",
    "    for row in reader:\n",
    "        print(row)"
   ]
  },
  {
   "cell_type": "markdown",
   "metadata": {},
   "source": [
    "# M 07 - L 04 - WRITE TO CSV-FILE"
   ]
  },
  {
   "cell_type": "code",
   "execution_count": 5,
   "metadata": {},
   "outputs": [],
   "source": [
    "import csv \n",
    "import os\n",
    "\n",
    "with open('people_write2.csv', 'w',newline='') as file:\n",
    "    writer = csv.writer(file)\n",
    "    writer.writerow(['Name','Country', 'Profession'])\n",
    "    writer.writerow(['Dravid', 'India', 'Cricketer'])\n",
    "    writer.writerow(['Abraham Lincoln', 'USA', 'President'])    "
   ]
  },
  {
   "cell_type": "markdown",
   "metadata": {},
   "source": [
    "# M 07 - L 05 - WRITE LIST TO CSV-FILE "
   ]
  },
  {
   "cell_type": "code",
   "execution_count": 6,
   "metadata": {},
   "outputs": [],
   "source": [
    "\n",
    "csv_rowlist = [\n",
    "    ['Name', 'Country', 'Profession'],\n",
    "    ['Dravid', 'India', 'Cricketer'],\n",
    "    ['Abraham Lincoln', 'USA', 'President']\n",
    "]  # List of List\n",
    "with open('people_write_multiple2.csv', 'w', newline='') as file:\n",
    "    writer = csv.writer(file, delimiter='#')\n",
    "    writer.writerows(csv_rowlist)\n"
   ]
  },
  {
   "cell_type": "markdown",
   "metadata": {},
   "source": [
    "# M 07 - L 06 - DICT READER "
   ]
  },
  {
   "cell_type": "markdown",
   "metadata": {},
   "source": [
    "## NORMAL READER"
   ]
  },
  {
   "cell_type": "code",
   "execution_count": 8,
   "metadata": {},
   "outputs": [
    {
     "name": "stdout",
     "output_type": "stream",
     "text": [
      "<_csv.reader object at 0x000002627933F4C0>\n",
      "['Name', 'Country', 'Profession']\n",
      "['Sachin', 'India', 'Cricketer']\n",
      "['A. R. Rahman', 'India', 'Musician']\n",
      "['Albert Einstein', 'Germany', 'Physicist']\n",
      "['A. P. J. Abdul Kalam', 'India', 'Scientist']\n",
      "['Roger Federer', ' Switzerland', 'Tennis']\n"
     ]
    }
   ],
   "source": [
    "with open ('people.csv', mode= 'r') as file:\n",
    "    reader=csv.reader(file)\n",
    "    print(reader)\n",
    "    for row in reader :\n",
    "        print(row)"
   ]
  },
  {
   "cell_type": "markdown",
   "metadata": {},
   "source": [
    "## DICT READER"
   ]
  },
  {
   "cell_type": "code",
   "execution_count": 10,
   "metadata": {},
   "outputs": [
    {
     "name": "stdout",
     "output_type": "stream",
     "text": [
      "<csv.DictReader object at 0x0000026279366340>\n",
      "{'Name': 'Sachin', 'Country': 'India', 'Profession': 'Cricketer'}\n",
      "{'Name': 'A. R. Rahman', 'Country': 'India', 'Profession': 'Musician'}\n",
      "{'Name': 'Albert Einstein', 'Country': 'Germany', 'Profession': 'Physicist'}\n",
      "{'Name': 'A. P. J. Abdul Kalam', 'Country': 'India', 'Profession': 'Scientist'}\n",
      "{'Name': 'Roger Federer', 'Country': ' Switzerland', 'Profession': 'Tennis'}\n"
     ]
    }
   ],
   "source": [
    "with open ('people.csv',mode = 'r') as file:\n",
    "    reader = csv.DictReader(file)\n",
    "    print(reader)\n",
    "    for row in reader :\n",
    "        print(dict(row))"
   ]
  },
  {
   "cell_type": "markdown",
   "metadata": {},
   "source": [
    "# M 07 - L 07 - DICT WRITER "
   ]
  },
  {
   "cell_type": "markdown",
   "metadata": {},
   "source": [
    "## NORMAL READER"
   ]
  },
  {
   "cell_type": "code",
   "execution_count": 14,
   "metadata": {},
   "outputs": [],
   "source": [
    "with open ('people_write2.csv',mode ='w',newline= '') as file :\n",
    "    writer = csv.writer(file)\n",
    "    writer.writerow(['Name', 'Country', 'Profession'])\n",
    "    writer.writerow(['Dravid', 'India', 'Cricketer'])\n",
    "    writer.writerow(['Abraham Lincoln', 'USA', 'President'])\n"
   ]
  },
  {
   "cell_type": "markdown",
   "metadata": {},
   "source": [
    "## DICT READER"
   ]
  },
  {
   "cell_type": "code",
   "execution_count": 16,
   "metadata": {},
   "outputs": [],
   "source": [
    "with open ('people_write2.csv', mode='w',newline='') as file :\n",
    "    index=['name2','country2']\n",
    "    writer = csv.DictWriter(file ,fieldnames=index )\n",
    "    writer.writeheader()\n",
    "    writer.writerow({'name2': 'Sachin', 'country2': 'India'})\n",
    "    writer.writerow({'name2': 'Roger Federer', 'country2': 'Switzerland'})"
   ]
  },
  {
   "cell_type": "markdown",
   "metadata": {},
   "source": [
    "# M 07 - L 08 - READER VS DICT READER "
   ]
  },
  {
   "cell_type": "markdown",
   "metadata": {},
   "source": [
    "## NORMAL READER"
   ]
  },
  {
   "cell_type": "code",
   "execution_count": 20,
   "metadata": {},
   "outputs": [
    {
     "name": "stdout",
     "output_type": "stream",
     "text": [
      "Name Country Profession\n",
      "Sachin India Cricketer\n",
      "A. R. Rahman India Musician\n",
      "Albert Einstein Germany Physicist\n",
      "A. P. J. Abdul Kalam India Scientist\n",
      "Roger Federer  Switzerland Tennis\n"
     ]
    }
   ],
   "source": [
    "import csv\n",
    "f=open('people.csv',mode='r')\n",
    "with f :\n",
    "    reader = csv.reader(f)\n",
    "    for row in reader:\n",
    "        print(row[0],row[1],row[2])"
   ]
  },
  {
   "cell_type": "markdown",
   "metadata": {},
   "source": [
    "## DICT READER"
   ]
  },
  {
   "cell_type": "code",
   "execution_count": 21,
   "metadata": {},
   "outputs": [
    {
     "name": "stdout",
     "output_type": "stream",
     "text": [
      "Sachin India Cricketer\n",
      "A. R. Rahman India Musician\n",
      "Albert Einstein Germany Physicist\n",
      "A. P. J. Abdul Kalam India Scientist\n",
      "Roger Federer  Switzerland Tennis\n"
     ]
    }
   ],
   "source": [
    "with open('people.csv' , mode = 'r') as f:\n",
    "    reader = csv.DictReader(f)\n",
    "    for row in reader:\n",
    "        print( row['Name'], row['Country'], row['Profession'])"
   ]
  },
  {
   "cell_type": "code",
   "execution_count": null,
   "metadata": {},
   "outputs": [],
   "source": []
  }
 ],
 "metadata": {
  "interpreter": {
   "hash": "794c586787e63909adb941834935e6e46fc49adf1399dfa9033e63c86a61e0b5"
  },
  "kernelspec": {
   "display_name": "Python 3.8.5 64-bit",
   "language": "python",
   "name": "python3"
  },
  "language_info": {
   "codemirror_mode": {
    "name": "ipython",
    "version": 3
   },
   "file_extension": ".py",
   "mimetype": "text/x-python",
   "name": "python",
   "nbconvert_exporter": "python",
   "pygments_lexer": "ipython3",
   "version": "3.8.5"
  },
  "orig_nbformat": 4
 },
 "nbformat": 4,
 "nbformat_minor": 2
}
